{
 "cells": [
  {
   "cell_type": "code",
   "execution_count": 1,
   "id": "642edfb7",
   "metadata": {},
   "outputs": [],
   "source": [
    "import numpy as np\n",
    "import pandas as pd"
   ]
  },
  {
   "cell_type": "code",
   "execution_count": 2,
   "id": "2e699f5e",
   "metadata": {},
   "outputs": [],
   "source": [
    "#calling data from csv\n",
    "df = pd.read_csv('parkinsons.csv')"
   ]
  },
  {
   "cell_type": "code",
   "execution_count": 3,
   "id": "cc6286e5",
   "metadata": {},
   "outputs": [
    {
     "data": {
      "text/plain": [
       "(195, 24)"
      ]
     },
     "execution_count": 3,
     "metadata": {},
     "output_type": "execute_result"
    }
   ],
   "source": [
    "#knowing the shape of data\n",
    "df.shape"
   ]
  },
  {
   "cell_type": "code",
   "execution_count": 4,
   "id": "487e0282",
   "metadata": {},
   "outputs": [
    {
     "data": {
      "text/html": [
       "<div>\n",
       "<style scoped>\n",
       "    .dataframe tbody tr th:only-of-type {\n",
       "        vertical-align: middle;\n",
       "    }\n",
       "\n",
       "    .dataframe tbody tr th {\n",
       "        vertical-align: top;\n",
       "    }\n",
       "\n",
       "    .dataframe thead th {\n",
       "        text-align: right;\n",
       "    }\n",
       "</style>\n",
       "<table border=\"1\" class=\"dataframe\">\n",
       "  <thead>\n",
       "    <tr style=\"text-align: right;\">\n",
       "      <th></th>\n",
       "      <th>name</th>\n",
       "      <th>MDVP:Fo(Hz)</th>\n",
       "      <th>MDVP:Fhi(Hz)</th>\n",
       "      <th>MDVP:Flo(Hz)</th>\n",
       "      <th>MDVP:Jitter(%)</th>\n",
       "      <th>MDVP:Jitter(Abs)</th>\n",
       "      <th>MDVP:RAP</th>\n",
       "      <th>MDVP:PPQ</th>\n",
       "      <th>Jitter:DDP</th>\n",
       "      <th>MDVP:Shimmer</th>\n",
       "      <th>...</th>\n",
       "      <th>Shimmer:DDA</th>\n",
       "      <th>NHR</th>\n",
       "      <th>HNR</th>\n",
       "      <th>status</th>\n",
       "      <th>RPDE</th>\n",
       "      <th>DFA</th>\n",
       "      <th>spread1</th>\n",
       "      <th>spread2</th>\n",
       "      <th>D2</th>\n",
       "      <th>PPE</th>\n",
       "    </tr>\n",
       "  </thead>\n",
       "  <tbody>\n",
       "    <tr>\n",
       "      <th>155</th>\n",
       "      <td>phon_R01_S37_3</td>\n",
       "      <td>117.870</td>\n",
       "      <td>127.349</td>\n",
       "      <td>95.654</td>\n",
       "      <td>0.00647</td>\n",
       "      <td>0.00005</td>\n",
       "      <td>0.00356</td>\n",
       "      <td>0.00300</td>\n",
       "      <td>0.01067</td>\n",
       "      <td>0.03087</td>\n",
       "      <td>...</td>\n",
       "      <td>0.04977</td>\n",
       "      <td>0.02631</td>\n",
       "      <td>22.431</td>\n",
       "      <td>1</td>\n",
       "      <td>0.628300</td>\n",
       "      <td>0.652025</td>\n",
       "      <td>-3.583722</td>\n",
       "      <td>0.207914</td>\n",
       "      <td>2.439597</td>\n",
       "      <td>0.206256</td>\n",
       "    </tr>\n",
       "    <tr>\n",
       "      <th>40</th>\n",
       "      <td>phon_R01_S08_5</td>\n",
       "      <td>186.163</td>\n",
       "      <td>197.724</td>\n",
       "      <td>177.584</td>\n",
       "      <td>0.00298</td>\n",
       "      <td>0.00002</td>\n",
       "      <td>0.00165</td>\n",
       "      <td>0.00175</td>\n",
       "      <td>0.00496</td>\n",
       "      <td>0.01495</td>\n",
       "      <td>...</td>\n",
       "      <td>0.02321</td>\n",
       "      <td>0.00231</td>\n",
       "      <td>26.822</td>\n",
       "      <td>1</td>\n",
       "      <td>0.326480</td>\n",
       "      <td>0.765623</td>\n",
       "      <td>-6.647379</td>\n",
       "      <td>0.201095</td>\n",
       "      <td>2.374073</td>\n",
       "      <td>0.130554</td>\n",
       "    </tr>\n",
       "    <tr>\n",
       "      <th>66</th>\n",
       "      <td>phon_R01_S18_1</td>\n",
       "      <td>140.341</td>\n",
       "      <td>159.774</td>\n",
       "      <td>67.021</td>\n",
       "      <td>0.00817</td>\n",
       "      <td>0.00006</td>\n",
       "      <td>0.00430</td>\n",
       "      <td>0.00440</td>\n",
       "      <td>0.01289</td>\n",
       "      <td>0.03198</td>\n",
       "      <td>...</td>\n",
       "      <td>0.05490</td>\n",
       "      <td>0.02183</td>\n",
       "      <td>19.560</td>\n",
       "      <td>1</td>\n",
       "      <td>0.460139</td>\n",
       "      <td>0.720908</td>\n",
       "      <td>-5.409423</td>\n",
       "      <td>0.226850</td>\n",
       "      <td>2.359973</td>\n",
       "      <td>0.226156</td>\n",
       "    </tr>\n",
       "    <tr>\n",
       "      <th>186</th>\n",
       "      <td>phon_R01_S49_4</td>\n",
       "      <td>116.556</td>\n",
       "      <td>592.030</td>\n",
       "      <td>86.228</td>\n",
       "      <td>0.00496</td>\n",
       "      <td>0.00004</td>\n",
       "      <td>0.00254</td>\n",
       "      <td>0.00263</td>\n",
       "      <td>0.00762</td>\n",
       "      <td>0.01660</td>\n",
       "      <td>...</td>\n",
       "      <td>0.02460</td>\n",
       "      <td>0.01397</td>\n",
       "      <td>23.958</td>\n",
       "      <td>0</td>\n",
       "      <td>0.566424</td>\n",
       "      <td>0.667654</td>\n",
       "      <td>-6.431119</td>\n",
       "      <td>0.153310</td>\n",
       "      <td>2.161936</td>\n",
       "      <td>0.120605</td>\n",
       "    </tr>\n",
       "    <tr>\n",
       "      <th>175</th>\n",
       "      <td>phon_R01_S43_5</td>\n",
       "      <td>115.380</td>\n",
       "      <td>123.109</td>\n",
       "      <td>108.634</td>\n",
       "      <td>0.00332</td>\n",
       "      <td>0.00003</td>\n",
       "      <td>0.00160</td>\n",
       "      <td>0.00199</td>\n",
       "      <td>0.00480</td>\n",
       "      <td>0.01503</td>\n",
       "      <td>...</td>\n",
       "      <td>0.02436</td>\n",
       "      <td>0.00401</td>\n",
       "      <td>26.005</td>\n",
       "      <td>0</td>\n",
       "      <td>0.405991</td>\n",
       "      <td>0.761255</td>\n",
       "      <td>-5.966779</td>\n",
       "      <td>0.197938</td>\n",
       "      <td>1.974857</td>\n",
       "      <td>0.184067</td>\n",
       "    </tr>\n",
       "  </tbody>\n",
       "</table>\n",
       "<p>5 rows × 24 columns</p>\n",
       "</div>"
      ],
      "text/plain": [
       "               name  MDVP:Fo(Hz)  MDVP:Fhi(Hz)  MDVP:Flo(Hz)  MDVP:Jitter(%)  \\\n",
       "155  phon_R01_S37_3      117.870       127.349        95.654         0.00647   \n",
       "40   phon_R01_S08_5      186.163       197.724       177.584         0.00298   \n",
       "66   phon_R01_S18_1      140.341       159.774        67.021         0.00817   \n",
       "186  phon_R01_S49_4      116.556       592.030        86.228         0.00496   \n",
       "175  phon_R01_S43_5      115.380       123.109       108.634         0.00332   \n",
       "\n",
       "     MDVP:Jitter(Abs)  MDVP:RAP  MDVP:PPQ  Jitter:DDP  MDVP:Shimmer  ...  \\\n",
       "155           0.00005   0.00356   0.00300     0.01067       0.03087  ...   \n",
       "40            0.00002   0.00165   0.00175     0.00496       0.01495  ...   \n",
       "66            0.00006   0.00430   0.00440     0.01289       0.03198  ...   \n",
       "186           0.00004   0.00254   0.00263     0.00762       0.01660  ...   \n",
       "175           0.00003   0.00160   0.00199     0.00480       0.01503  ...   \n",
       "\n",
       "     Shimmer:DDA      NHR     HNR  status      RPDE       DFA   spread1  \\\n",
       "155      0.04977  0.02631  22.431       1  0.628300  0.652025 -3.583722   \n",
       "40       0.02321  0.00231  26.822       1  0.326480  0.765623 -6.647379   \n",
       "66       0.05490  0.02183  19.560       1  0.460139  0.720908 -5.409423   \n",
       "186      0.02460  0.01397  23.958       0  0.566424  0.667654 -6.431119   \n",
       "175      0.02436  0.00401  26.005       0  0.405991  0.761255 -5.966779   \n",
       "\n",
       "      spread2        D2       PPE  \n",
       "155  0.207914  2.439597  0.206256  \n",
       "40   0.201095  2.374073  0.130554  \n",
       "66   0.226850  2.359973  0.226156  \n",
       "186  0.153310  2.161936  0.120605  \n",
       "175  0.197938  1.974857  0.184067  \n",
       "\n",
       "[5 rows x 24 columns]"
      ]
     },
     "execution_count": 4,
     "metadata": {},
     "output_type": "execute_result"
    }
   ],
   "source": [
    "#sample of data\n",
    "df.sample(5)"
   ]
  },
  {
   "cell_type": "code",
   "execution_count": 5,
   "id": "bf617188",
   "metadata": {},
   "outputs": [
    {
     "name": "stdout",
     "output_type": "stream",
     "text": [
      "<class 'pandas.core.frame.DataFrame'>\n",
      "RangeIndex: 195 entries, 0 to 194\n",
      "Data columns (total 24 columns):\n",
      " #   Column            Non-Null Count  Dtype  \n",
      "---  ------            --------------  -----  \n",
      " 0   name              195 non-null    object \n",
      " 1   MDVP:Fo(Hz)       195 non-null    float64\n",
      " 2   MDVP:Fhi(Hz)      195 non-null    float64\n",
      " 3   MDVP:Flo(Hz)      195 non-null    float64\n",
      " 4   MDVP:Jitter(%)    195 non-null    float64\n",
      " 5   MDVP:Jitter(Abs)  195 non-null    float64\n",
      " 6   MDVP:RAP          195 non-null    float64\n",
      " 7   MDVP:PPQ          195 non-null    float64\n",
      " 8   Jitter:DDP        195 non-null    float64\n",
      " 9   MDVP:Shimmer      195 non-null    float64\n",
      " 10  MDVP:Shimmer(dB)  195 non-null    float64\n",
      " 11  Shimmer:APQ3      195 non-null    float64\n",
      " 12  Shimmer:APQ5      195 non-null    float64\n",
      " 13  MDVP:APQ          195 non-null    float64\n",
      " 14  Shimmer:DDA       195 non-null    float64\n",
      " 15  NHR               195 non-null    float64\n",
      " 16  HNR               195 non-null    float64\n",
      " 17  status            195 non-null    int64  \n",
      " 18  RPDE              195 non-null    float64\n",
      " 19  DFA               195 non-null    float64\n",
      " 20  spread1           195 non-null    float64\n",
      " 21  spread2           195 non-null    float64\n",
      " 22  D2                195 non-null    float64\n",
      " 23  PPE               195 non-null    float64\n",
      "dtypes: float64(22), int64(1), object(1)\n",
      "memory usage: 36.7+ KB\n"
     ]
    }
   ],
   "source": [
    "#data types information of attributes\n",
    "df.info()"
   ]
  },
  {
   "cell_type": "code",
   "execution_count": 6,
   "id": "6cefe57e",
   "metadata": {},
   "outputs": [
    {
     "data": {
      "text/plain": [
       "name                0\n",
       "MDVP:Fo(Hz)         0\n",
       "MDVP:Fhi(Hz)        0\n",
       "MDVP:Flo(Hz)        0\n",
       "MDVP:Jitter(%)      0\n",
       "MDVP:Jitter(Abs)    0\n",
       "MDVP:RAP            0\n",
       "MDVP:PPQ            0\n",
       "Jitter:DDP          0\n",
       "MDVP:Shimmer        0\n",
       "MDVP:Shimmer(dB)    0\n",
       "Shimmer:APQ3        0\n",
       "Shimmer:APQ5        0\n",
       "MDVP:APQ            0\n",
       "Shimmer:DDA         0\n",
       "NHR                 0\n",
       "HNR                 0\n",
       "status              0\n",
       "RPDE                0\n",
       "DFA                 0\n",
       "spread1             0\n",
       "spread2             0\n",
       "D2                  0\n",
       "PPE                 0\n",
       "dtype: int64"
      ]
     },
     "execution_count": 6,
     "metadata": {},
     "output_type": "execute_result"
    }
   ],
   "source": [
    "#cheking the dataset contains any null value or not\n",
    "df.isnull().sum()"
   ]
  },
  {
   "cell_type": "code",
   "execution_count": 7,
   "id": "b1154e06",
   "metadata": {},
   "outputs": [
    {
     "data": {
      "text/plain": [
       "0"
      ]
     },
     "execution_count": 7,
     "metadata": {},
     "output_type": "execute_result"
    }
   ],
   "source": [
    "#checking dataset contain any duplicate value\n",
    "df.duplicated().sum()"
   ]
  },
  {
   "cell_type": "code",
   "execution_count": 8,
   "id": "a0d1afdf",
   "metadata": {},
   "outputs": [
    {
     "data": {
      "text/html": [
       "<div>\n",
       "<style scoped>\n",
       "    .dataframe tbody tr th:only-of-type {\n",
       "        vertical-align: middle;\n",
       "    }\n",
       "\n",
       "    .dataframe tbody tr th {\n",
       "        vertical-align: top;\n",
       "    }\n",
       "\n",
       "    .dataframe thead th {\n",
       "        text-align: right;\n",
       "    }\n",
       "</style>\n",
       "<table border=\"1\" class=\"dataframe\">\n",
       "  <thead>\n",
       "    <tr style=\"text-align: right;\">\n",
       "      <th></th>\n",
       "      <th>MDVP:Fo(Hz)</th>\n",
       "      <th>MDVP:Fhi(Hz)</th>\n",
       "      <th>MDVP:Flo(Hz)</th>\n",
       "      <th>MDVP:Jitter(%)</th>\n",
       "      <th>MDVP:Jitter(Abs)</th>\n",
       "      <th>MDVP:RAP</th>\n",
       "      <th>MDVP:PPQ</th>\n",
       "      <th>Jitter:DDP</th>\n",
       "      <th>MDVP:Shimmer</th>\n",
       "      <th>MDVP:Shimmer(dB)</th>\n",
       "      <th>...</th>\n",
       "      <th>Shimmer:DDA</th>\n",
       "      <th>NHR</th>\n",
       "      <th>HNR</th>\n",
       "      <th>status</th>\n",
       "      <th>RPDE</th>\n",
       "      <th>DFA</th>\n",
       "      <th>spread1</th>\n",
       "      <th>spread2</th>\n",
       "      <th>D2</th>\n",
       "      <th>PPE</th>\n",
       "    </tr>\n",
       "  </thead>\n",
       "  <tbody>\n",
       "    <tr>\n",
       "      <th>count</th>\n",
       "      <td>195.000000</td>\n",
       "      <td>195.000000</td>\n",
       "      <td>195.000000</td>\n",
       "      <td>195.000000</td>\n",
       "      <td>195.000000</td>\n",
       "      <td>195.000000</td>\n",
       "      <td>195.000000</td>\n",
       "      <td>195.000000</td>\n",
       "      <td>195.000000</td>\n",
       "      <td>195.000000</td>\n",
       "      <td>...</td>\n",
       "      <td>195.000000</td>\n",
       "      <td>195.000000</td>\n",
       "      <td>195.000000</td>\n",
       "      <td>195.000000</td>\n",
       "      <td>195.000000</td>\n",
       "      <td>195.000000</td>\n",
       "      <td>195.000000</td>\n",
       "      <td>195.000000</td>\n",
       "      <td>195.000000</td>\n",
       "      <td>195.000000</td>\n",
       "    </tr>\n",
       "    <tr>\n",
       "      <th>mean</th>\n",
       "      <td>154.228641</td>\n",
       "      <td>197.104918</td>\n",
       "      <td>116.324631</td>\n",
       "      <td>0.006220</td>\n",
       "      <td>0.000044</td>\n",
       "      <td>0.003306</td>\n",
       "      <td>0.003446</td>\n",
       "      <td>0.009920</td>\n",
       "      <td>0.029709</td>\n",
       "      <td>0.282251</td>\n",
       "      <td>...</td>\n",
       "      <td>0.046993</td>\n",
       "      <td>0.024847</td>\n",
       "      <td>21.885974</td>\n",
       "      <td>0.753846</td>\n",
       "      <td>0.498536</td>\n",
       "      <td>0.718099</td>\n",
       "      <td>-5.684397</td>\n",
       "      <td>0.226510</td>\n",
       "      <td>2.381826</td>\n",
       "      <td>0.206552</td>\n",
       "    </tr>\n",
       "    <tr>\n",
       "      <th>std</th>\n",
       "      <td>41.390065</td>\n",
       "      <td>91.491548</td>\n",
       "      <td>43.521413</td>\n",
       "      <td>0.004848</td>\n",
       "      <td>0.000035</td>\n",
       "      <td>0.002968</td>\n",
       "      <td>0.002759</td>\n",
       "      <td>0.008903</td>\n",
       "      <td>0.018857</td>\n",
       "      <td>0.194877</td>\n",
       "      <td>...</td>\n",
       "      <td>0.030459</td>\n",
       "      <td>0.040418</td>\n",
       "      <td>4.425764</td>\n",
       "      <td>0.431878</td>\n",
       "      <td>0.103942</td>\n",
       "      <td>0.055336</td>\n",
       "      <td>1.090208</td>\n",
       "      <td>0.083406</td>\n",
       "      <td>0.382799</td>\n",
       "      <td>0.090119</td>\n",
       "    </tr>\n",
       "    <tr>\n",
       "      <th>min</th>\n",
       "      <td>88.333000</td>\n",
       "      <td>102.145000</td>\n",
       "      <td>65.476000</td>\n",
       "      <td>0.001680</td>\n",
       "      <td>0.000007</td>\n",
       "      <td>0.000680</td>\n",
       "      <td>0.000920</td>\n",
       "      <td>0.002040</td>\n",
       "      <td>0.009540</td>\n",
       "      <td>0.085000</td>\n",
       "      <td>...</td>\n",
       "      <td>0.013640</td>\n",
       "      <td>0.000650</td>\n",
       "      <td>8.441000</td>\n",
       "      <td>0.000000</td>\n",
       "      <td>0.256570</td>\n",
       "      <td>0.574282</td>\n",
       "      <td>-7.964984</td>\n",
       "      <td>0.006274</td>\n",
       "      <td>1.423287</td>\n",
       "      <td>0.044539</td>\n",
       "    </tr>\n",
       "    <tr>\n",
       "      <th>25%</th>\n",
       "      <td>117.572000</td>\n",
       "      <td>134.862500</td>\n",
       "      <td>84.291000</td>\n",
       "      <td>0.003460</td>\n",
       "      <td>0.000020</td>\n",
       "      <td>0.001660</td>\n",
       "      <td>0.001860</td>\n",
       "      <td>0.004985</td>\n",
       "      <td>0.016505</td>\n",
       "      <td>0.148500</td>\n",
       "      <td>...</td>\n",
       "      <td>0.024735</td>\n",
       "      <td>0.005925</td>\n",
       "      <td>19.198000</td>\n",
       "      <td>1.000000</td>\n",
       "      <td>0.421306</td>\n",
       "      <td>0.674758</td>\n",
       "      <td>-6.450096</td>\n",
       "      <td>0.174351</td>\n",
       "      <td>2.099125</td>\n",
       "      <td>0.137451</td>\n",
       "    </tr>\n",
       "    <tr>\n",
       "      <th>50%</th>\n",
       "      <td>148.790000</td>\n",
       "      <td>175.829000</td>\n",
       "      <td>104.315000</td>\n",
       "      <td>0.004940</td>\n",
       "      <td>0.000030</td>\n",
       "      <td>0.002500</td>\n",
       "      <td>0.002690</td>\n",
       "      <td>0.007490</td>\n",
       "      <td>0.022970</td>\n",
       "      <td>0.221000</td>\n",
       "      <td>...</td>\n",
       "      <td>0.038360</td>\n",
       "      <td>0.011660</td>\n",
       "      <td>22.085000</td>\n",
       "      <td>1.000000</td>\n",
       "      <td>0.495954</td>\n",
       "      <td>0.722254</td>\n",
       "      <td>-5.720868</td>\n",
       "      <td>0.218885</td>\n",
       "      <td>2.361532</td>\n",
       "      <td>0.194052</td>\n",
       "    </tr>\n",
       "    <tr>\n",
       "      <th>75%</th>\n",
       "      <td>182.769000</td>\n",
       "      <td>224.205500</td>\n",
       "      <td>140.018500</td>\n",
       "      <td>0.007365</td>\n",
       "      <td>0.000060</td>\n",
       "      <td>0.003835</td>\n",
       "      <td>0.003955</td>\n",
       "      <td>0.011505</td>\n",
       "      <td>0.037885</td>\n",
       "      <td>0.350000</td>\n",
       "      <td>...</td>\n",
       "      <td>0.060795</td>\n",
       "      <td>0.025640</td>\n",
       "      <td>25.075500</td>\n",
       "      <td>1.000000</td>\n",
       "      <td>0.587562</td>\n",
       "      <td>0.761881</td>\n",
       "      <td>-5.046192</td>\n",
       "      <td>0.279234</td>\n",
       "      <td>2.636456</td>\n",
       "      <td>0.252980</td>\n",
       "    </tr>\n",
       "    <tr>\n",
       "      <th>max</th>\n",
       "      <td>260.105000</td>\n",
       "      <td>592.030000</td>\n",
       "      <td>239.170000</td>\n",
       "      <td>0.033160</td>\n",
       "      <td>0.000260</td>\n",
       "      <td>0.021440</td>\n",
       "      <td>0.019580</td>\n",
       "      <td>0.064330</td>\n",
       "      <td>0.119080</td>\n",
       "      <td>1.302000</td>\n",
       "      <td>...</td>\n",
       "      <td>0.169420</td>\n",
       "      <td>0.314820</td>\n",
       "      <td>33.047000</td>\n",
       "      <td>1.000000</td>\n",
       "      <td>0.685151</td>\n",
       "      <td>0.825288</td>\n",
       "      <td>-2.434031</td>\n",
       "      <td>0.450493</td>\n",
       "      <td>3.671155</td>\n",
       "      <td>0.527367</td>\n",
       "    </tr>\n",
       "  </tbody>\n",
       "</table>\n",
       "<p>8 rows × 23 columns</p>\n",
       "</div>"
      ],
      "text/plain": [
       "       MDVP:Fo(Hz)  MDVP:Fhi(Hz)  MDVP:Flo(Hz)  MDVP:Jitter(%)  \\\n",
       "count   195.000000    195.000000    195.000000      195.000000   \n",
       "mean    154.228641    197.104918    116.324631        0.006220   \n",
       "std      41.390065     91.491548     43.521413        0.004848   \n",
       "min      88.333000    102.145000     65.476000        0.001680   \n",
       "25%     117.572000    134.862500     84.291000        0.003460   \n",
       "50%     148.790000    175.829000    104.315000        0.004940   \n",
       "75%     182.769000    224.205500    140.018500        0.007365   \n",
       "max     260.105000    592.030000    239.170000        0.033160   \n",
       "\n",
       "       MDVP:Jitter(Abs)    MDVP:RAP    MDVP:PPQ  Jitter:DDP  MDVP:Shimmer  \\\n",
       "count        195.000000  195.000000  195.000000  195.000000    195.000000   \n",
       "mean           0.000044    0.003306    0.003446    0.009920      0.029709   \n",
       "std            0.000035    0.002968    0.002759    0.008903      0.018857   \n",
       "min            0.000007    0.000680    0.000920    0.002040      0.009540   \n",
       "25%            0.000020    0.001660    0.001860    0.004985      0.016505   \n",
       "50%            0.000030    0.002500    0.002690    0.007490      0.022970   \n",
       "75%            0.000060    0.003835    0.003955    0.011505      0.037885   \n",
       "max            0.000260    0.021440    0.019580    0.064330      0.119080   \n",
       "\n",
       "       MDVP:Shimmer(dB)  ...  Shimmer:DDA         NHR         HNR      status  \\\n",
       "count        195.000000  ...   195.000000  195.000000  195.000000  195.000000   \n",
       "mean           0.282251  ...     0.046993    0.024847   21.885974    0.753846   \n",
       "std            0.194877  ...     0.030459    0.040418    4.425764    0.431878   \n",
       "min            0.085000  ...     0.013640    0.000650    8.441000    0.000000   \n",
       "25%            0.148500  ...     0.024735    0.005925   19.198000    1.000000   \n",
       "50%            0.221000  ...     0.038360    0.011660   22.085000    1.000000   \n",
       "75%            0.350000  ...     0.060795    0.025640   25.075500    1.000000   \n",
       "max            1.302000  ...     0.169420    0.314820   33.047000    1.000000   \n",
       "\n",
       "             RPDE         DFA     spread1     spread2          D2         PPE  \n",
       "count  195.000000  195.000000  195.000000  195.000000  195.000000  195.000000  \n",
       "mean     0.498536    0.718099   -5.684397    0.226510    2.381826    0.206552  \n",
       "std      0.103942    0.055336    1.090208    0.083406    0.382799    0.090119  \n",
       "min      0.256570    0.574282   -7.964984    0.006274    1.423287    0.044539  \n",
       "25%      0.421306    0.674758   -6.450096    0.174351    2.099125    0.137451  \n",
       "50%      0.495954    0.722254   -5.720868    0.218885    2.361532    0.194052  \n",
       "75%      0.587562    0.761881   -5.046192    0.279234    2.636456    0.252980  \n",
       "max      0.685151    0.825288   -2.434031    0.450493    3.671155    0.527367  \n",
       "\n",
       "[8 rows x 23 columns]"
      ]
     },
     "execution_count": 8,
     "metadata": {},
     "output_type": "execute_result"
    }
   ],
   "source": [
    "#getting basic mathematical insight of dataset \n",
    "df.describe()"
   ]
  },
  {
   "cell_type": "code",
   "execution_count": 9,
   "id": "2c17bc14",
   "metadata": {},
   "outputs": [
    {
     "data": {
      "text/plain": [
       "MDVP:Fo(Hz)         1.000000\n",
       "MDVP:Fhi(Hz)        0.400985\n",
       "MDVP:Flo(Hz)        0.596546\n",
       "MDVP:Jitter(%)     -0.118003\n",
       "MDVP:Jitter(Abs)   -0.382027\n",
       "MDVP:RAP           -0.076194\n",
       "MDVP:PPQ           -0.112165\n",
       "Jitter:DDP         -0.076213\n",
       "MDVP:Shimmer       -0.098374\n",
       "MDVP:Shimmer(dB)   -0.073742\n",
       "Shimmer:APQ3       -0.094717\n",
       "Shimmer:APQ5       -0.070682\n",
       "MDVP:APQ           -0.077774\n",
       "Shimmer:DDA        -0.094732\n",
       "NHR                -0.021981\n",
       "HNR                 0.059144\n",
       "status             -0.383535\n",
       "RPDE               -0.383894\n",
       "DFA                -0.446013\n",
       "spread1            -0.413738\n",
       "spread2            -0.249450\n",
       "D2                  0.177980\n",
       "PPE                -0.372356\n",
       "Name: MDVP:Fo(Hz), dtype: float64"
      ]
     },
     "execution_count": 9,
     "metadata": {},
     "output_type": "execute_result"
    }
   ],
   "source": [
    "# 1.MDVP:Fo(Hz)\n",
    "numeric_cols = df.select_dtypes(include=['number'])\n",
    "correlation = numeric_cols.corr()['MDVP:Fo(Hz)']\n",
    "correlation"
   ]
  },
  {
   "cell_type": "code",
   "execution_count": 10,
   "id": "cb9c8552",
   "metadata": {},
   "outputs": [
    {
     "data": {
      "text/plain": [
       "MDVP:Fo(Hz)         0.400985\n",
       "MDVP:Fhi(Hz)        1.000000\n",
       "MDVP:Flo(Hz)        0.084951\n",
       "MDVP:Jitter(%)      0.102086\n",
       "MDVP:Jitter(Abs)   -0.029198\n",
       "MDVP:RAP            0.097177\n",
       "MDVP:PPQ            0.091126\n",
       "Jitter:DDP          0.097150\n",
       "MDVP:Shimmer        0.002281\n",
       "MDVP:Shimmer(dB)    0.043465\n",
       "Shimmer:APQ3       -0.003743\n",
       "Shimmer:APQ5       -0.009997\n",
       "MDVP:APQ            0.004937\n",
       "Shimmer:DDA        -0.003733\n",
       "NHR                 0.163766\n",
       "HNR                -0.024893\n",
       "status             -0.166136\n",
       "RPDE               -0.112404\n",
       "DFA                -0.343097\n",
       "spread1            -0.076658\n",
       "spread2            -0.002954\n",
       "D2                  0.176323\n",
       "PPE                -0.069543\n",
       "Name: MDVP:Fhi(Hz), dtype: float64"
      ]
     },
     "execution_count": 10,
     "metadata": {},
     "output_type": "execute_result"
    }
   ],
   "source": [
    "# 2.MDVP:Fhi(Hz)\n",
    "numeric_cols = df.select_dtypes(include=['number'])\n",
    "correlation = numeric_cols.corr()['MDVP:Fhi(Hz)']\n",
    "correlation"
   ]
  },
  {
   "cell_type": "code",
   "execution_count": 11,
   "id": "55114192",
   "metadata": {},
   "outputs": [
    {
     "data": {
      "text/plain": [
       "MDVP:Fo(Hz)         0.596546\n",
       "MDVP:Fhi(Hz)        0.084951\n",
       "MDVP:Flo(Hz)        1.000000\n",
       "MDVP:Jitter(%)     -0.139919\n",
       "MDVP:Jitter(Abs)   -0.277815\n",
       "MDVP:RAP           -0.100519\n",
       "MDVP:PPQ           -0.095828\n",
       "Jitter:DDP         -0.100488\n",
       "MDVP:Shimmer       -0.144543\n",
       "MDVP:Shimmer(dB)   -0.119089\n",
       "Shimmer:APQ3       -0.150747\n",
       "Shimmer:APQ5       -0.101095\n",
       "MDVP:APQ           -0.107293\n",
       "Shimmer:DDA        -0.150737\n",
       "NHR                -0.108670\n",
       "HNR                 0.210851\n",
       "status             -0.380200\n",
       "RPDE               -0.400143\n",
       "DFA                -0.050406\n",
       "spread1            -0.394857\n",
       "spread2            -0.243829\n",
       "D2                 -0.100629\n",
       "PPE                -0.340071\n",
       "Name: MDVP:Flo(Hz), dtype: float64"
      ]
     },
     "execution_count": 11,
     "metadata": {},
     "output_type": "execute_result"
    }
   ],
   "source": [
    "# 3.MDVP:Flo(Hz)\n",
    "numeric_cols = df.select_dtypes(include=['number'])\n",
    "correlation = numeric_cols.corr()['MDVP:Flo(Hz)']\n",
    "correlation"
   ]
  },
  {
   "cell_type": "code",
   "execution_count": 12,
   "id": "0d519235",
   "metadata": {},
   "outputs": [
    {
     "data": {
      "text/plain": [
       "MDVP:Fo(Hz)        -0.118003\n",
       "MDVP:Fhi(Hz)        0.102086\n",
       "MDVP:Flo(Hz)       -0.139919\n",
       "MDVP:Jitter(%)      1.000000\n",
       "MDVP:Jitter(Abs)    0.935714\n",
       "MDVP:RAP            0.990276\n",
       "MDVP:PPQ            0.974256\n",
       "Jitter:DDP          0.990276\n",
       "MDVP:Shimmer        0.769063\n",
       "MDVP:Shimmer(dB)    0.804289\n",
       "Shimmer:APQ3        0.746625\n",
       "Shimmer:APQ5        0.725561\n",
       "MDVP:APQ            0.758255\n",
       "Shimmer:DDA         0.746635\n",
       "NHR                 0.906959\n",
       "HNR                -0.728165\n",
       "status              0.278220\n",
       "RPDE                0.360673\n",
       "DFA                 0.098572\n",
       "spread1             0.693577\n",
       "spread2             0.385123\n",
       "D2                  0.433434\n",
       "PPE                 0.721543\n",
       "Name: MDVP:Jitter(%), dtype: float64"
      ]
     },
     "execution_count": 12,
     "metadata": {},
     "output_type": "execute_result"
    }
   ],
   "source": [
    "#4 MDVP:Jitter(%)\n",
    "numeric_cols = df.select_dtypes(include=['number'])\n",
    "correlation = numeric_cols.corr()['MDVP:Jitter(%)']\n",
    "correlation\n",
    "# MDVP:Jitter(%) is in correlation with\n",
    "# MDVP:RAP, Jitter:DDP,MDVP:PPQ"
   ]
  },
  {
   "cell_type": "code",
   "execution_count": 13,
   "id": "2f55558b",
   "metadata": {},
   "outputs": [
    {
     "data": {
      "text/plain": [
       "MDVP:Fo(Hz)        -0.382027\n",
       "MDVP:Fhi(Hz)       -0.029198\n",
       "MDVP:Flo(Hz)       -0.277815\n",
       "MDVP:Jitter(%)      0.935714\n",
       "MDVP:Jitter(Abs)    1.000000\n",
       "MDVP:RAP            0.922911\n",
       "MDVP:PPQ            0.897778\n",
       "Jitter:DDP          0.922913\n",
       "MDVP:Shimmer        0.703322\n",
       "MDVP:Shimmer(dB)    0.716601\n",
       "Shimmer:APQ3        0.697153\n",
       "Shimmer:APQ5        0.648961\n",
       "MDVP:APQ            0.648793\n",
       "Shimmer:DDA         0.697170\n",
       "NHR                 0.834972\n",
       "HNR                -0.656810\n",
       "status              0.338653\n",
       "RPDE                0.441839\n",
       "DFA                 0.175036\n",
       "spread1             0.735779\n",
       "spread2             0.388543\n",
       "D2                  0.310694\n",
       "PPE                 0.748162\n",
       "Name: MDVP:Jitter(Abs), dtype: float64"
      ]
     },
     "execution_count": 13,
     "metadata": {},
     "output_type": "execute_result"
    }
   ],
   "source": [
    "#5 MDVP:Jitter(Abs)\n",
    "numeric_cols = df.select_dtypes(include=['number'])\n",
    "correlation = numeric_cols.corr()['MDVP:Jitter(Abs)']\n",
    "correlation"
   ]
  },
  {
   "cell_type": "code",
   "execution_count": 14,
   "id": "384f3e2d",
   "metadata": {},
   "outputs": [
    {
     "data": {
      "text/plain": [
       "MDVP:Fo(Hz)        -0.076194\n",
       "MDVP:Fhi(Hz)        0.097177\n",
       "MDVP:Flo(Hz)       -0.100519\n",
       "MDVP:Jitter(%)      0.990276\n",
       "MDVP:Jitter(Abs)    0.922911\n",
       "MDVP:RAP            1.000000\n",
       "MDVP:PPQ            0.957317\n",
       "Jitter:DDP          1.000000\n",
       "MDVP:Shimmer        0.759581\n",
       "MDVP:Shimmer(dB)    0.790652\n",
       "Shimmer:APQ3        0.744912\n",
       "Shimmer:APQ5        0.709927\n",
       "MDVP:APQ            0.737455\n",
       "Shimmer:DDA         0.744919\n",
       "NHR                 0.919521\n",
       "HNR                -0.721543\n",
       "status              0.266668\n",
       "RPDE                0.342140\n",
       "DFA                 0.064083\n",
       "spread1             0.648328\n",
       "spread2             0.324407\n",
       "D2                  0.426605\n",
       "PPE                 0.670999\n",
       "Name: MDVP:RAP, dtype: float64"
      ]
     },
     "execution_count": 14,
     "metadata": {},
     "output_type": "execute_result"
    }
   ],
   "source": [
    "#6 MDVP:RAP \n",
    "numeric_cols = df.select_dtypes(include=['number'])\n",
    "correlation = numeric_cols.corr()['MDVP:RAP']\n",
    "correlation\n",
    "\n",
    "# MDVP:RAP            1.000000 is corelated to\n",
    "# Jitter:DDP          1.000000"
   ]
  },
  {
   "cell_type": "code",
   "execution_count": 15,
   "id": "c14bbf9d",
   "metadata": {},
   "outputs": [
    {
     "data": {
      "text/plain": [
       "MDVP:Fo(Hz)        -0.112165\n",
       "MDVP:Fhi(Hz)        0.091126\n",
       "MDVP:Flo(Hz)       -0.095828\n",
       "MDVP:Jitter(%)      0.974256\n",
       "MDVP:Jitter(Abs)    0.897778\n",
       "MDVP:RAP            0.957317\n",
       "MDVP:PPQ            1.000000\n",
       "Jitter:DDP          0.957319\n",
       "MDVP:Shimmer        0.797826\n",
       "MDVP:Shimmer(dB)    0.839239\n",
       "Shimmer:APQ3        0.763580\n",
       "Shimmer:APQ5        0.786780\n",
       "MDVP:APQ            0.804139\n",
       "Shimmer:DDA         0.763592\n",
       "NHR                 0.844604\n",
       "HNR                -0.731510\n",
       "status              0.288698\n",
       "RPDE                0.333274\n",
       "DFA                 0.196301\n",
       "spread1             0.716489\n",
       "spread2             0.407605\n",
       "D2                  0.412524\n",
       "PPE                 0.769647\n",
       "Name: MDVP:PPQ, dtype: float64"
      ]
     },
     "execution_count": 15,
     "metadata": {},
     "output_type": "execute_result"
    }
   ],
   "source": [
    "#7 MDVP:PPQ\n",
    "numeric_cols = df.select_dtypes(include=['number'])\n",
    "correlation = numeric_cols.corr()['MDVP:PPQ']\n",
    "correlation"
   ]
  },
  {
   "cell_type": "code",
   "execution_count": 16,
   "id": "22127e18",
   "metadata": {},
   "outputs": [
    {
     "data": {
      "text/plain": [
       "MDVP:Fo(Hz)        -0.076213\n",
       "MDVP:Fhi(Hz)        0.097150\n",
       "MDVP:Flo(Hz)       -0.100488\n",
       "MDVP:Jitter(%)      0.990276\n",
       "MDVP:Jitter(Abs)    0.922913\n",
       "MDVP:RAP            1.000000\n",
       "MDVP:PPQ            0.957319\n",
       "Jitter:DDP          1.000000\n",
       "MDVP:Shimmer        0.759555\n",
       "MDVP:Shimmer(dB)    0.790621\n",
       "Shimmer:APQ3        0.744894\n",
       "Shimmer:APQ5        0.709907\n",
       "MDVP:APQ            0.737439\n",
       "Shimmer:DDA         0.744901\n",
       "NHR                 0.919548\n",
       "HNR                -0.721494\n",
       "status              0.266646\n",
       "RPDE                0.342079\n",
       "DFA                 0.064026\n",
       "spread1             0.648328\n",
       "spread2             0.324377\n",
       "D2                  0.426556\n",
       "PPE                 0.671005\n",
       "Name: Jitter:DDP, dtype: float64"
      ]
     },
     "execution_count": 16,
     "metadata": {},
     "output_type": "execute_result"
    }
   ],
   "source": [
    "#8 Jitter:DDP\n",
    "numeric_cols = df.select_dtypes(include=['number'])\n",
    "correlation = numeric_cols.corr()['Jitter:DDP']\n",
    "correlation\n",
    "# Jitter:DDP is in corellation with \n",
    "# MDVP:Jitter(%)"
   ]
  },
  {
   "cell_type": "code",
   "execution_count": 17,
   "id": "cc8d90ae",
   "metadata": {},
   "outputs": [
    {
     "data": {
      "text/plain": [
       "MDVP:Fo(Hz)        -0.098374\n",
       "MDVP:Fhi(Hz)        0.002281\n",
       "MDVP:Flo(Hz)       -0.144543\n",
       "MDVP:Jitter(%)      0.769063\n",
       "MDVP:Jitter(Abs)    0.703322\n",
       "MDVP:RAP            0.759581\n",
       "MDVP:PPQ            0.797826\n",
       "Jitter:DDP          0.759555\n",
       "MDVP:Shimmer        1.000000\n",
       "MDVP:Shimmer(dB)    0.987258\n",
       "Shimmer:APQ3        0.987625\n",
       "Shimmer:APQ5        0.982835\n",
       "MDVP:APQ            0.950083\n",
       "Shimmer:DDA         0.987626\n",
       "NHR                 0.722194\n",
       "HNR                -0.835271\n",
       "status              0.367430\n",
       "RPDE                0.447424\n",
       "DFA                 0.159954\n",
       "spread1             0.654734\n",
       "spread2             0.452025\n",
       "D2                  0.507088\n",
       "PPE                 0.693771\n",
       "Name: MDVP:Shimmer, dtype: float64"
      ]
     },
     "execution_count": 17,
     "metadata": {},
     "output_type": "execute_result"
    }
   ],
   "source": [
    "#9 MDVP:Shimmer\n",
    "numeric_cols = df.select_dtypes(include=['number'])\n",
    "correlation = numeric_cols.corr()['MDVP:Shimmer']\n",
    "correlation"
   ]
  },
  {
   "cell_type": "code",
   "execution_count": 18,
   "id": "3a22a65d",
   "metadata": {},
   "outputs": [
    {
     "data": {
      "text/plain": [
       "MDVP:Fo(Hz)        -0.073742\n",
       "MDVP:Fhi(Hz)        0.043465\n",
       "MDVP:Flo(Hz)       -0.119089\n",
       "MDVP:Jitter(%)      0.804289\n",
       "MDVP:Jitter(Abs)    0.716601\n",
       "MDVP:RAP            0.790652\n",
       "MDVP:PPQ            0.839239\n",
       "Jitter:DDP          0.790621\n",
       "MDVP:Shimmer        0.987258\n",
       "MDVP:Shimmer(dB)    1.000000\n",
       "Shimmer:APQ3        0.963198\n",
       "Shimmer:APQ5        0.973751\n",
       "MDVP:APQ            0.960977\n",
       "Shimmer:DDA         0.963202\n",
       "NHR                 0.744477\n",
       "HNR                -0.827805\n",
       "status              0.350697\n",
       "RPDE                0.410684\n",
       "DFA                 0.165157\n",
       "spread1             0.652547\n",
       "spread2             0.454314\n",
       "D2                  0.512233\n",
       "PPE                 0.695058\n",
       "Name: MDVP:Shimmer(dB), dtype: float64"
      ]
     },
     "execution_count": 18,
     "metadata": {},
     "output_type": "execute_result"
    }
   ],
   "source": [
    "#10 MDVP:Shimmer(dB) \n",
    "numeric_cols = df.select_dtypes(include=['number'])\n",
    "correlation = numeric_cols.corr()['MDVP:Shimmer(dB)']\n",
    "correlation\n",
    "# MDVP:Shimmer(dB)    1.000000 is in correlation with\n",
    "# MDVP:Shimmer        0.987258"
   ]
  },
  {
   "cell_type": "code",
   "execution_count": 19,
   "id": "45216311",
   "metadata": {},
   "outputs": [
    {
     "data": {
      "text/plain": [
       "MDVP:Fo(Hz)        -0.094717\n",
       "MDVP:Fhi(Hz)       -0.003743\n",
       "MDVP:Flo(Hz)       -0.150747\n",
       "MDVP:Jitter(%)      0.746625\n",
       "MDVP:Jitter(Abs)    0.697153\n",
       "MDVP:RAP            0.744912\n",
       "MDVP:PPQ            0.763580\n",
       "Jitter:DDP          0.744894\n",
       "MDVP:Shimmer        0.987625\n",
       "MDVP:Shimmer(dB)    0.963198\n",
       "Shimmer:APQ3        1.000000\n",
       "Shimmer:APQ5        0.960070\n",
       "MDVP:APQ            0.896645\n",
       "Shimmer:DDA         1.000000\n",
       "NHR                 0.716207\n",
       "HNR                -0.827123\n",
       "status              0.347617\n",
       "RPDE                0.435242\n",
       "DFA                 0.151124\n",
       "spread1             0.610967\n",
       "spread2             0.402243\n",
       "D2                  0.467265\n",
       "PPE                 0.645377\n",
       "Name: Shimmer:APQ3, dtype: float64"
      ]
     },
     "execution_count": 19,
     "metadata": {},
     "output_type": "execute_result"
    }
   ],
   "source": [
    "#11 Shimmer:APQ3\n",
    "numeric_cols = df.select_dtypes(include=['number'])\n",
    "correlation = numeric_cols.corr()['Shimmer:APQ3']\n",
    "correlation\n",
    "# Shimmer:APQ3        1.000000 is correlated with\n",
    "# Shimmer:DDA         1.000000"
   ]
  },
  {
   "cell_type": "code",
   "execution_count": 20,
   "id": "682adcf0",
   "metadata": {},
   "outputs": [
    {
     "data": {
      "text/plain": [
       "MDVP:Fo(Hz)        -0.070682\n",
       "MDVP:Fhi(Hz)       -0.009997\n",
       "MDVP:Flo(Hz)       -0.101095\n",
       "MDVP:Jitter(%)      0.725561\n",
       "MDVP:Jitter(Abs)    0.648961\n",
       "MDVP:RAP            0.709927\n",
       "MDVP:PPQ            0.786780\n",
       "Jitter:DDP          0.709907\n",
       "MDVP:Shimmer        0.982835\n",
       "MDVP:Shimmer(dB)    0.973751\n",
       "Shimmer:APQ3        0.960070\n",
       "Shimmer:APQ5        1.000000\n",
       "MDVP:APQ            0.949146\n",
       "Shimmer:DDA         0.960072\n",
       "NHR                 0.658080\n",
       "HNR                -0.813753\n",
       "status              0.351148\n",
       "RPDE                0.399903\n",
       "DFA                 0.213873\n",
       "spread1             0.646809\n",
       "spread2             0.457195\n",
       "D2                  0.502174\n",
       "PPE                 0.702456\n",
       "Name: Shimmer:APQ5, dtype: float64"
      ]
     },
     "execution_count": 20,
     "metadata": {},
     "output_type": "execute_result"
    }
   ],
   "source": [
    "#12 Shimmer:APQ5\n",
    "numeric_cols = df.select_dtypes(include=['number'])\n",
    "correlation = numeric_cols.corr()['Shimmer:APQ5']\n",
    "correlation"
   ]
  },
  {
   "cell_type": "code",
   "execution_count": 21,
   "id": "1a2b37dc",
   "metadata": {},
   "outputs": [
    {
     "data": {
      "text/plain": [
       "MDVP:Fo(Hz)        -0.077774\n",
       "MDVP:Fhi(Hz)        0.004937\n",
       "MDVP:Flo(Hz)       -0.107293\n",
       "MDVP:Jitter(%)      0.758255\n",
       "MDVP:Jitter(Abs)    0.648793\n",
       "MDVP:RAP            0.737455\n",
       "MDVP:PPQ            0.804139\n",
       "Jitter:DDP          0.737439\n",
       "MDVP:Shimmer        0.950083\n",
       "MDVP:Shimmer(dB)    0.960977\n",
       "Shimmer:APQ3        0.896645\n",
       "Shimmer:APQ5        0.949146\n",
       "MDVP:APQ            1.000000\n",
       "Shimmer:DDA         0.896647\n",
       "NHR                 0.694019\n",
       "HNR                -0.800407\n",
       "status              0.364316\n",
       "RPDE                0.451379\n",
       "DFA                 0.157276\n",
       "spread1             0.673158\n",
       "spread2             0.502188\n",
       "D2                  0.536869\n",
       "PPE                 0.721694\n",
       "Name: MDVP:APQ, dtype: float64"
      ]
     },
     "execution_count": 21,
     "metadata": {},
     "output_type": "execute_result"
    }
   ],
   "source": [
    "#13 MDVP:APQ \n",
    "numeric_cols = df.select_dtypes(include=['number'])\n",
    "correlation = numeric_cols.corr()['MDVP:APQ']\n",
    "correlation"
   ]
  },
  {
   "cell_type": "code",
   "execution_count": 22,
   "id": "46bc326f",
   "metadata": {},
   "outputs": [
    {
     "data": {
      "text/plain": [
       "MDVP:Fo(Hz)        -0.094732\n",
       "MDVP:Fhi(Hz)       -0.003733\n",
       "MDVP:Flo(Hz)       -0.150737\n",
       "MDVP:Jitter(%)      0.746635\n",
       "MDVP:Jitter(Abs)    0.697170\n",
       "MDVP:RAP            0.744919\n",
       "MDVP:PPQ            0.763592\n",
       "Jitter:DDP          0.744901\n",
       "MDVP:Shimmer        0.987626\n",
       "MDVP:Shimmer(dB)    0.963202\n",
       "Shimmer:APQ3        1.000000\n",
       "Shimmer:APQ5        0.960072\n",
       "MDVP:APQ            0.896647\n",
       "Shimmer:DDA         1.000000\n",
       "NHR                 0.716215\n",
       "HNR                -0.827130\n",
       "status              0.347608\n",
       "RPDE                0.435237\n",
       "DFA                 0.151132\n",
       "spread1             0.610971\n",
       "spread2             0.402223\n",
       "D2                  0.467261\n",
       "PPE                 0.645389\n",
       "Name: Shimmer:DDA, dtype: float64"
      ]
     },
     "execution_count": 22,
     "metadata": {},
     "output_type": "execute_result"
    }
   ],
   "source": [
    "#14 Shimmer:DDA \n",
    "numeric_cols = df.select_dtypes(include=['number'])\n",
    "correlation = numeric_cols.corr()['Shimmer:DDA']\n",
    "correlation"
   ]
  },
  {
   "cell_type": "code",
   "execution_count": 23,
   "id": "d6b7ba9e",
   "metadata": {},
   "outputs": [
    {
     "data": {
      "text/plain": [
       "MDVP:Fo(Hz)        -0.021981\n",
       "MDVP:Fhi(Hz)        0.163766\n",
       "MDVP:Flo(Hz)       -0.108670\n",
       "MDVP:Jitter(%)      0.906959\n",
       "MDVP:Jitter(Abs)    0.834972\n",
       "MDVP:RAP            0.919521\n",
       "MDVP:PPQ            0.844604\n",
       "Jitter:DDP          0.919548\n",
       "MDVP:Shimmer        0.722194\n",
       "MDVP:Shimmer(dB)    0.744477\n",
       "Shimmer:APQ3        0.716207\n",
       "Shimmer:APQ5        0.658080\n",
       "MDVP:APQ            0.694019\n",
       "Shimmer:DDA         0.716215\n",
       "NHR                 1.000000\n",
       "HNR                -0.714072\n",
       "status              0.189429\n",
       "RPDE                0.370890\n",
       "DFA                -0.131882\n",
       "spread1             0.540865\n",
       "spread2             0.318099\n",
       "D2                  0.470949\n",
       "PPE                 0.552591\n",
       "Name: NHR, dtype: float64"
      ]
     },
     "execution_count": 23,
     "metadata": {},
     "output_type": "execute_result"
    }
   ],
   "source": [
    "#15 NHR\n",
    "numeric_cols = df.select_dtypes(include=['number'])\n",
    "correlation = numeric_cols.corr()['NHR']\n",
    "correlation"
   ]
  },
  {
   "cell_type": "code",
   "execution_count": 24,
   "id": "996656a1",
   "metadata": {},
   "outputs": [
    {
     "data": {
      "text/plain": [
       "MDVP:Fo(Hz)         0.059144\n",
       "MDVP:Fhi(Hz)       -0.024893\n",
       "MDVP:Flo(Hz)        0.210851\n",
       "MDVP:Jitter(%)     -0.728165\n",
       "MDVP:Jitter(Abs)   -0.656810\n",
       "MDVP:RAP           -0.721543\n",
       "MDVP:PPQ           -0.731510\n",
       "Jitter:DDP         -0.721494\n",
       "MDVP:Shimmer       -0.835271\n",
       "MDVP:Shimmer(dB)   -0.827805\n",
       "Shimmer:APQ3       -0.827123\n",
       "Shimmer:APQ5       -0.813753\n",
       "MDVP:APQ           -0.800407\n",
       "Shimmer:DDA        -0.827130\n",
       "NHR                -0.714072\n",
       "HNR                 1.000000\n",
       "status             -0.361515\n",
       "RPDE               -0.598736\n",
       "DFA                -0.008665\n",
       "spread1            -0.673210\n",
       "spread2            -0.431564\n",
       "D2                 -0.601401\n",
       "PPE                -0.692876\n",
       "Name: HNR, dtype: float64"
      ]
     },
     "execution_count": 24,
     "metadata": {},
     "output_type": "execute_result"
    }
   ],
   "source": [
    "#16 HNR\n",
    "numeric_cols = df.select_dtypes(include=['number'])\n",
    "correlation = numeric_cols.corr()['HNR']\n",
    "correlation"
   ]
  },
  {
   "cell_type": "code",
   "execution_count": 25,
   "id": "c181686c",
   "metadata": {},
   "outputs": [
    {
     "data": {
      "text/plain": [
       "MDVP:Fo(Hz)        -0.383535\n",
       "MDVP:Fhi(Hz)       -0.166136\n",
       "MDVP:Flo(Hz)       -0.380200\n",
       "MDVP:Jitter(%)      0.278220\n",
       "MDVP:Jitter(Abs)    0.338653\n",
       "MDVP:RAP            0.266668\n",
       "MDVP:PPQ            0.288698\n",
       "Jitter:DDP          0.266646\n",
       "MDVP:Shimmer        0.367430\n",
       "MDVP:Shimmer(dB)    0.350697\n",
       "Shimmer:APQ3        0.347617\n",
       "Shimmer:APQ5        0.351148\n",
       "MDVP:APQ            0.364316\n",
       "Shimmer:DDA         0.347608\n",
       "NHR                 0.189429\n",
       "HNR                -0.361515\n",
       "status              1.000000\n",
       "RPDE                0.308567\n",
       "DFA                 0.231739\n",
       "spread1             0.564838\n",
       "spread2             0.454842\n",
       "D2                  0.340232\n",
       "PPE                 0.531039\n",
       "Name: status, dtype: float64"
      ]
     },
     "execution_count": 25,
     "metadata": {},
     "output_type": "execute_result"
    }
   ],
   "source": [
    "#17 status \n",
    "numeric_cols = df.select_dtypes(include=['number'])\n",
    "correlation = numeric_cols.corr()['status']\n",
    "correlation"
   ]
  },
  {
   "cell_type": "code",
   "execution_count": 26,
   "id": "52cbfaa3",
   "metadata": {},
   "outputs": [
    {
     "data": {
      "text/plain": [
       "MDVP:Fo(Hz)        -0.383894\n",
       "MDVP:Fhi(Hz)       -0.112404\n",
       "MDVP:Flo(Hz)       -0.400143\n",
       "MDVP:Jitter(%)      0.360673\n",
       "MDVP:Jitter(Abs)    0.441839\n",
       "MDVP:RAP            0.342140\n",
       "MDVP:PPQ            0.333274\n",
       "Jitter:DDP          0.342079\n",
       "MDVP:Shimmer        0.447424\n",
       "MDVP:Shimmer(dB)    0.410684\n",
       "Shimmer:APQ3        0.435242\n",
       "Shimmer:APQ5        0.399903\n",
       "MDVP:APQ            0.451379\n",
       "Shimmer:DDA         0.435237\n",
       "NHR                 0.370890\n",
       "HNR                -0.598736\n",
       "status              0.308567\n",
       "RPDE                1.000000\n",
       "DFA                -0.110950\n",
       "spread1             0.591117\n",
       "spread2             0.479905\n",
       "D2                  0.236931\n",
       "PPE                 0.545886\n",
       "Name: RPDE, dtype: float64"
      ]
     },
     "execution_count": 26,
     "metadata": {},
     "output_type": "execute_result"
    }
   ],
   "source": [
    "#18 RPDE \n",
    "numeric_cols = df.select_dtypes(include=['number'])\n",
    "correlation = numeric_cols.corr()['RPDE']\n",
    "correlation"
   ]
  },
  {
   "cell_type": "code",
   "execution_count": 27,
   "id": "b3c7e8c1",
   "metadata": {},
   "outputs": [
    {
     "data": {
      "text/plain": [
       "MDVP:Fo(Hz)        -0.446013\n",
       "MDVP:Fhi(Hz)       -0.343097\n",
       "MDVP:Flo(Hz)       -0.050406\n",
       "MDVP:Jitter(%)      0.098572\n",
       "MDVP:Jitter(Abs)    0.175036\n",
       "MDVP:RAP            0.064083\n",
       "MDVP:PPQ            0.196301\n",
       "Jitter:DDP          0.064026\n",
       "MDVP:Shimmer        0.159954\n",
       "MDVP:Shimmer(dB)    0.165157\n",
       "Shimmer:APQ3        0.151124\n",
       "Shimmer:APQ5        0.213873\n",
       "MDVP:APQ            0.157276\n",
       "Shimmer:DDA         0.151132\n",
       "NHR                -0.131882\n",
       "HNR                -0.008665\n",
       "status              0.231739\n",
       "RPDE               -0.110950\n",
       "DFA                 1.000000\n",
       "spread1             0.195668\n",
       "spread2             0.166548\n",
       "D2                 -0.165381\n",
       "PPE                 0.270445\n",
       "Name: DFA, dtype: float64"
      ]
     },
     "execution_count": 27,
     "metadata": {},
     "output_type": "execute_result"
    }
   ],
   "source": [
    "#19 DFA \n",
    "numeric_cols = df.select_dtypes(include=['number'])\n",
    "correlation = numeric_cols.corr()['DFA']\n",
    "correlation"
   ]
  },
  {
   "cell_type": "code",
   "execution_count": 28,
   "id": "dd146ca5",
   "metadata": {},
   "outputs": [
    {
     "data": {
      "text/plain": [
       "MDVP:Fo(Hz)        -0.413738\n",
       "MDVP:Fhi(Hz)       -0.076658\n",
       "MDVP:Flo(Hz)       -0.394857\n",
       "MDVP:Jitter(%)      0.693577\n",
       "MDVP:Jitter(Abs)    0.735779\n",
       "MDVP:RAP            0.648328\n",
       "MDVP:PPQ            0.716489\n",
       "Jitter:DDP          0.648328\n",
       "MDVP:Shimmer        0.654734\n",
       "MDVP:Shimmer(dB)    0.652547\n",
       "Shimmer:APQ3        0.610967\n",
       "Shimmer:APQ5        0.646809\n",
       "MDVP:APQ            0.673158\n",
       "Shimmer:DDA         0.610971\n",
       "NHR                 0.540865\n",
       "HNR                -0.673210\n",
       "status              0.564838\n",
       "RPDE                0.591117\n",
       "DFA                 0.195668\n",
       "spread1             1.000000\n",
       "spread2             0.652358\n",
       "D2                  0.495123\n",
       "PPE                 0.962435\n",
       "Name: spread1, dtype: float64"
      ]
     },
     "execution_count": 28,
     "metadata": {},
     "output_type": "execute_result"
    }
   ],
   "source": [
    "#20 spread1\n",
    "numeric_cols = df.select_dtypes(include=['number'])\n",
    "correlation = numeric_cols.corr()['spread1']\n",
    "correlation"
   ]
  },
  {
   "cell_type": "code",
   "execution_count": 29,
   "id": "b81a63d3",
   "metadata": {},
   "outputs": [
    {
     "data": {
      "text/plain": [
       "MDVP:Fo(Hz)        -0.249450\n",
       "MDVP:Fhi(Hz)       -0.002954\n",
       "MDVP:Flo(Hz)       -0.243829\n",
       "MDVP:Jitter(%)      0.385123\n",
       "MDVP:Jitter(Abs)    0.388543\n",
       "MDVP:RAP            0.324407\n",
       "MDVP:PPQ            0.407605\n",
       "Jitter:DDP          0.324377\n",
       "MDVP:Shimmer        0.452025\n",
       "MDVP:Shimmer(dB)    0.454314\n",
       "Shimmer:APQ3        0.402243\n",
       "Shimmer:APQ5        0.457195\n",
       "MDVP:APQ            0.502188\n",
       "Shimmer:DDA         0.402223\n",
       "NHR                 0.318099\n",
       "HNR                -0.431564\n",
       "status              0.454842\n",
       "RPDE                0.479905\n",
       "DFA                 0.166548\n",
       "spread1             0.652358\n",
       "spread2             1.000000\n",
       "D2                  0.523532\n",
       "PPE                 0.644711\n",
       "Name: spread2, dtype: float64"
      ]
     },
     "execution_count": 29,
     "metadata": {},
     "output_type": "execute_result"
    }
   ],
   "source": [
    "#21 spread2\n",
    "numeric_cols = df.select_dtypes(include=['number'])\n",
    "correlation = numeric_cols.corr()['spread2']\n",
    "correlation"
   ]
  },
  {
   "cell_type": "code",
   "execution_count": 30,
   "id": "585a5655",
   "metadata": {},
   "outputs": [
    {
     "data": {
      "text/plain": [
       "MDVP:Fo(Hz)         0.177980\n",
       "MDVP:Fhi(Hz)        0.176323\n",
       "MDVP:Flo(Hz)       -0.100629\n",
       "MDVP:Jitter(%)      0.433434\n",
       "MDVP:Jitter(Abs)    0.310694\n",
       "MDVP:RAP            0.426605\n",
       "MDVP:PPQ            0.412524\n",
       "Jitter:DDP          0.426556\n",
       "MDVP:Shimmer        0.507088\n",
       "MDVP:Shimmer(dB)    0.512233\n",
       "Shimmer:APQ3        0.467265\n",
       "Shimmer:APQ5        0.502174\n",
       "MDVP:APQ            0.536869\n",
       "Shimmer:DDA         0.467261\n",
       "NHR                 0.470949\n",
       "HNR                -0.601401\n",
       "status              0.340232\n",
       "RPDE                0.236931\n",
       "DFA                -0.165381\n",
       "spread1             0.495123\n",
       "spread2             0.523532\n",
       "D2                  1.000000\n",
       "PPE                 0.480585\n",
       "Name: D2, dtype: float64"
      ]
     },
     "execution_count": 30,
     "metadata": {},
     "output_type": "execute_result"
    }
   ],
   "source": [
    "#22 D2\n",
    "numeric_cols = df.select_dtypes(include=['number'])\n",
    "correlation = numeric_cols.corr()['D2']\n",
    "correlation"
   ]
  },
  {
   "cell_type": "code",
   "execution_count": 31,
   "id": "6db741bd",
   "metadata": {},
   "outputs": [
    {
     "data": {
      "text/plain": [
       "MDVP:Fo(Hz)        -0.372356\n",
       "MDVP:Fhi(Hz)       -0.069543\n",
       "MDVP:Flo(Hz)       -0.340071\n",
       "MDVP:Jitter(%)      0.721543\n",
       "MDVP:Jitter(Abs)    0.748162\n",
       "MDVP:RAP            0.670999\n",
       "MDVP:PPQ            0.769647\n",
       "Jitter:DDP          0.671005\n",
       "MDVP:Shimmer        0.693771\n",
       "MDVP:Shimmer(dB)    0.695058\n",
       "Shimmer:APQ3        0.645377\n",
       "Shimmer:APQ5        0.702456\n",
       "MDVP:APQ            0.721694\n",
       "Shimmer:DDA         0.645389\n",
       "NHR                 0.552591\n",
       "HNR                -0.692876\n",
       "status              0.531039\n",
       "RPDE                0.545886\n",
       "DFA                 0.270445\n",
       "spread1             0.962435\n",
       "spread2             0.644711\n",
       "D2                  0.480585\n",
       "PPE                 1.000000\n",
       "Name: PPE, dtype: float64"
      ]
     },
     "execution_count": 31,
     "metadata": {},
     "output_type": "execute_result"
    }
   ],
   "source": [
    "#23 PPE\n",
    "numeric_cols = df.select_dtypes(include=['number'])\n",
    "correlation = numeric_cols.corr()['PPE']\n",
    "correlation"
   ]
  },
  {
   "cell_type": "code",
   "execution_count": 32,
   "id": "9d854fc5",
   "metadata": {},
   "outputs": [],
   "source": [
    "\n",
    "# MDVP:RAP            1.000000 is corelated to\n",
    "# Jitter:DDP          1.000000\n",
    "\n",
    "# Jitter:DDP is in corellation with \n",
    "# MDVP:Jitter(%)\n",
    "\n",
    "# MDVP:Shimmer(dB)    1.000000 is in correlation with\n",
    "# MDVP:Shimmer        0.987258\n",
    "\n",
    "# Shimmer:APQ3        1.000000 is correlated with\n",
    "# Shimmer:DDA         1.000000\n"
   ]
  },
  {
   "cell_type": "code",
   "execution_count": 33,
   "id": "87e5b2e3",
   "metadata": {},
   "outputs": [],
   "source": [
    "#the below columns are 100% identical so we will drop this 4\n",
    "df = df.drop(['MDVP:RAP'],axis=1)\n",
    "df = df.drop(['MDVP:Shimmer(dB)'],axis=1)\n",
    "df = df.drop(['Shimmer:DDA'],axis=1)\n",
    "df = df.drop(['MDVP:Jitter(%)'],axis=1)\n",
    "\n",
    "#the below attributes have upto 96% correlation so drop one of them also\n",
    "#PPE                 1.000000 have correlation between\n",
    "#spread1             0.962435\n",
    "df = df.drop(['PPE'],axis=1)\n",
    "\n",
    "\n",
    "#name column is also not helpful\n",
    "df = df.drop(['name'],axis=1)"
   ]
  },
  {
   "cell_type": "code",
   "execution_count": 34,
   "id": "b36a41cc",
   "metadata": {},
   "outputs": [
    {
     "data": {
      "text/plain": [
       "(195, 18)"
      ]
     },
     "execution_count": 34,
     "metadata": {},
     "output_type": "execute_result"
    }
   ],
   "source": [
    "df.shape"
   ]
  },
  {
   "cell_type": "code",
   "execution_count": 35,
   "id": "26f25997",
   "metadata": {},
   "outputs": [
    {
     "data": {
      "text/plain": [
       "Index(['MDVP:Fo(Hz)', 'MDVP:Fhi(Hz)', 'MDVP:Flo(Hz)', 'MDVP:Jitter(Abs)',\n",
       "       'MDVP:PPQ', 'Jitter:DDP', 'MDVP:Shimmer', 'Shimmer:APQ3',\n",
       "       'Shimmer:APQ5', 'MDVP:APQ', 'NHR', 'HNR', 'status', 'RPDE', 'DFA',\n",
       "       'spread1', 'spread2', 'D2'],\n",
       "      dtype='object')"
      ]
     },
     "execution_count": 35,
     "metadata": {},
     "output_type": "execute_result"
    }
   ],
   "source": [
    "df.columns"
   ]
  },
  {
   "cell_type": "code",
   "execution_count": 37,
   "id": "4f812989",
   "metadata": {},
   "outputs": [],
   "source": [
    "#making new csv file\n",
    "df.to_csv('parkinsons_du.csv',float_format='%.15f',index=False)"
   ]
  },
  {
   "cell_type": "code",
   "execution_count": null,
   "id": "ed024fb1",
   "metadata": {},
   "outputs": [],
   "source": []
  }
 ],
 "metadata": {
  "kernelspec": {
   "display_name": "Python 3 (ipykernel)",
   "language": "python",
   "name": "python3"
  },
  "language_info": {
   "codemirror_mode": {
    "name": "ipython",
    "version": 3
   },
   "file_extension": ".py",
   "mimetype": "text/x-python",
   "name": "python",
   "nbconvert_exporter": "python",
   "pygments_lexer": "ipython3",
   "version": "3.11.3"
  }
 },
 "nbformat": 4,
 "nbformat_minor": 5
}
