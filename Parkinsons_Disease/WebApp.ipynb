{
 "cells": [
  {
   "cell_type": "code",
   "execution_count": 9,
   "id": "9b9f8611",
   "metadata": {},
   "outputs": [],
   "source": [
    "import streamlit\n",
    "import joblib\n",
    "import numpy as np"
   ]
  },
  {
   "cell_type": "code",
   "execution_count": 10,
   "id": "703f368b",
   "metadata": {},
   "outputs": [
    {
     "name": "stdout",
     "output_type": "stream",
     "text": [
      "Streamlit, version 1.24.0\n"
     ]
    }
   ],
   "source": [
    "!streamlit --version"
   ]
  },
  {
   "cell_type": "code",
   "execution_count": null,
   "id": "986139f1",
   "metadata": {},
   "outputs": [],
   "source": [
    "!streamlit run webApp.py"
   ]
  },
  {
   "cell_type": "code",
   "execution_count": 11,
   "id": "e34f1cf8",
   "metadata": {},
   "outputs": [],
   "source": [
    "model = joblib.load('Parkinsons_Model')"
   ]
  },
  {
   "cell_type": "code",
   "execution_count": 12,
   "id": "1956effd",
   "metadata": {},
   "outputs": [],
   "source": [
    "features = [107, 113.84, 104.315, 3.00E-05, 0.00182, 0.00431, 0.01567, 0.00829, 0.00946, 0.01256, 0.00344, 26.892, 0.63742, 0.763262, -6.167603, 0.183721, 2.064693]"
   ]
  },
  {
   "cell_type": "code",
   "execution_count": 13,
   "id": "20f37a9e",
   "metadata": {},
   "outputs": [],
   "source": [
    "input_data = np.array(features).reshape(1, -1)"
   ]
  },
  {
   "cell_type": "code",
   "execution_count": 14,
   "id": "56a07ee0",
   "metadata": {},
   "outputs": [
    {
     "name": "stderr",
     "output_type": "stream",
     "text": [
      "C:\\Users\\Admin\\AppData\\Local\\Programs\\Python\\Python311\\Lib\\site-packages\\sklearn\\base.py:439: UserWarning: X does not have valid feature names, but RandomForestClassifier was fitted with feature names\n",
      "  warnings.warn(\n"
     ]
    },
    {
     "data": {
      "text/plain": [
       "array([1], dtype=int64)"
      ]
     },
     "execution_count": 14,
     "metadata": {},
     "output_type": "execute_result"
    }
   ],
   "source": [
    "model.predict(input_data)"
   ]
  },
  {
   "cell_type": "markdown",
   "id": "60f0e432",
   "metadata": {},
   "source": [
    "# Thank You"
   ]
  },
  {
   "cell_type": "code",
   "execution_count": null,
   "id": "1125f9d7",
   "metadata": {},
   "outputs": [],
   "source": []
  }
 ],
 "metadata": {
  "kernelspec": {
   "display_name": "Python 3 (ipykernel)",
   "language": "python",
   "name": "python3"
  },
  "language_info": {
   "codemirror_mode": {
    "name": "ipython",
    "version": 3
   },
   "file_extension": ".py",
   "mimetype": "text/x-python",
   "name": "python",
   "nbconvert_exporter": "python",
   "pygments_lexer": "ipython3",
   "version": "3.11.3"
  }
 },
 "nbformat": 4,
 "nbformat_minor": 5
}
